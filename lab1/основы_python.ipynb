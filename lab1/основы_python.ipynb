{
 "cells": [
  {
   "cell_type": "code",
   "execution_count": 1,
   "metadata": {},
   "outputs": [],
   "source": [
    "import unittest\n",
    "from collections import defaultdict"
   ]
  },
  {
   "cell_type": "markdown",
   "metadata": {
    "id": "M-DGa20PaHnu"
   },
   "source": [
    "# Задача 1\n",
    "Написать функцию на вход которой подается строка, состоящая из латинских букв.\n",
    "Функция должна вернуть количество гласных букв (a, e, i, o, u) в этой строке. Написать тесты для кода"
   ]
  },
  {
   "cell_type": "code",
   "execution_count": 3,
   "metadata": {
    "id": "XvX8X_JJ6PCb"
   },
   "outputs": [],
   "source": [
    "def return_vocal_number(s):\n",
    "    vowels = {'a','e','o','u','i','A','E','I','O','U'}\n",
    "    return sum(1 for char in s if char in vowels)"
   ]
  },
  {
   "cell_type": "code",
   "execution_count": 4,
   "metadata": {},
   "outputs": [],
   "source": [
    "class TestReturnVocalNumber(unittest.TestCase):\n",
    "    def test_empty_string(self):\n",
    "        self.assertEqual(return_vocal_number(''), 0)\n",
    "    \n",
    "    def test_no_vowels(self):\n",
    "        self.assertEqual(return_vocal_number('bcdfg'), 0)\n",
    "    \n",
    "    def test_all_vowels_lowercase(self):\n",
    "        self.assertEqual(return_vocal_number('aeiou'), 5)\n",
    "    \n",
    "    def test_all_vowels_uppercase(self):\n",
    "        self.assertEqual(return_vocal_number('AEIOU'), 5)\n",
    "    \n",
    "    def test_mixed_case(self):\n",
    "        self.assertEqual(return_vocal_number('AbCdEfGhIj'), 3)\n",
    "    \n",
    "    def test_mixed_characters(self):\n",
    "        self.assertEqual(return_vocal_number('Hello World'), 3)\n",
    "    \n",
    "    def test_repeated_vowels(self):\n",
    "        self.assertEqual(return_vocal_number('aaaAAA'), 6)\n",
    "    \n",
    "    def test_non_latin_letters(self):\n",
    "        self.assertEqual(return_vocal_number('Hello мир'), 2)\n",
    "    \n",
    "    def test_numbers_and_symbols(self):\n",
    "        self.assertEqual(return_vocal_number('a1e2i3o4u5!'), 5)\n",
    "\n"
   ]
  },
  {
   "cell_type": "markdown",
   "metadata": {
    "id": "t2ClV_Y0bbr6"
   },
   "source": [
    "# Задача 2\n",
    "Написать функцию на вход, которой подается строка. Функция должна вернуть true, если\n",
    "каждый символ в строке встречается только 1 раз, иначе должна вернуть false. Написать тесты для кода"
   ]
  },
  {
   "cell_type": "code",
   "execution_count": 6,
   "metadata": {
    "id": "FppbECao6VIz"
   },
   "outputs": [],
   "source": [
    "def double_check(s):\n",
    "    return len(s) == len(set(s))"
   ]
  },
  {
   "cell_type": "code",
   "execution_count": 7,
   "metadata": {},
   "outputs": [],
   "source": [
    "class TestDoubleCheck(unittest.TestCase):\n",
    "    def test_empty_string(self):\n",
    "        self.assertTrue(double_check(''))\n",
    "    \n",
    "    def test_single_character(self):\n",
    "        self.assertTrue(double_check('a'))\n",
    "    \n",
    "    def test_all_unique(self):\n",
    "        self.assertTrue(double_check('abcdef'))\n",
    "    \n",
    "    def test_with_duplicates(self):\n",
    "        self.assertFalse(double_check('hello'))\n",
    "    \n",
    "    def test_case_sensitive(self):\n",
    "        self.assertTrue(double_check('aA'))\n",
    "        self.assertFalse(double_check('AaA'))\n",
    "    \n",
    "    def test_special_characters(self):\n",
    "        self.assertTrue(double_check('!@#$%^'))\n",
    "        self.assertFalse(double_check('!@#$%^!'))\n",
    "    \n",
    "    def test_numbers(self):\n",
    "        self.assertTrue(double_check('123456'))\n",
    "        self.assertFalse(double_check('1123456'))\n"
   ]
  },
  {
   "cell_type": "markdown",
   "metadata": {
    "id": "udRiIK1cdt6E"
   },
   "source": [
    "# Задача 3\n",
    "Написать функцию, которая принимает положительное число и возвращает количество\n",
    "бит равных 1 в этом числе. Написать тесты для кода"
   ]
  },
  {
   "cell_type": "code",
   "execution_count": 9,
   "metadata": {},
   "outputs": [],
   "source": [
    "def count_one_bits(n):\n",
    "    a = 0\n",
    "    while n>0:\n",
    "        if n%2==1:\n",
    "            n-=1\n",
    "            a+=1\n",
    "        n//=2\n",
    "    return a"
   ]
  },
  {
   "cell_type": "code",
   "execution_count": 10,
   "metadata": {},
   "outputs": [],
   "source": [
    "class TestCountOneBits(unittest.TestCase):\n",
    "    def test_zero(self):\n",
    "        self.assertEqual(count_one_bits(0), 0)\n",
    "    \n",
    "    def test_one(self):\n",
    "        self.assertEqual(count_one_bits(1), 1)\n",
    "    \n",
    "    def test_power_of_two(self):\n",
    "        self.assertEqual(count_one_bits(2), 1)   \n",
    "        self.assertEqual(count_one_bits(8), 1)   \n",
    "    \n",
    "    def test_multiple_bits(self):\n",
    "        self.assertEqual(count_one_bits(3), 2)   \n",
    "        self.assertEqual(count_one_bits(7), 3)   \n",
    "        self.assertEqual(count_one_bits(15), 4)  \n",
    "    \n",
    "    def test_large_number(self):\n",
    "        self.assertEqual(count_one_bits(2**16 - 1), 16)  "
   ]
  },
  {
   "cell_type": "markdown",
   "metadata": {
    "id": "26dDUz-Ae17N"
   },
   "source": [
    "# Задача 4\n",
    "Написать функцию, которая принимает положительное число. Функция должна вернуть то,\n",
    "сколько раз необходимо перемножать цифры числа или результат перемножения, чтобы\n",
    "получилось число состоящее из одной цифры.\n",
    "Например, для входного числа:\n",
    "· 39 функция должна вернуть 3, так как 3*9=27 => 2*7=14 => 1*4=4\n",
    "· 4 функция должна вернуть 0, так как число уже состоит из одной цифры\n",
    "· 999 функция должна вернуть 4, так как 9*9*9=729 => 7*2*9=126 => 1*2*6=12 =>\n",
    "1*2=2. Написать тесты для кода"
   ]
  },
  {
   "cell_type": "code",
   "execution_count": 12,
   "metadata": {
    "id": "BH1A_Mgi6i4G"
   },
   "outputs": [],
   "source": [
    "def magic(n):\n",
    "    result = 0\n",
    "    while n > 9:\n",
    "        tmp = str(n)\n",
    "        n = 1\n",
    "        for i in tmp:\n",
    "            n*=int(i)\n",
    "        result+=1\n",
    "    return result"
   ]
  },
  {
   "cell_type": "code",
   "execution_count": 13,
   "metadata": {},
   "outputs": [],
   "source": [
    "class TestMagicFunction(unittest.TestCase):\n",
    "    def test_single_digit(self):\n",
    "        self.assertEqual(magic(4), 0)\n",
    "    \n",
    "    def test_example_39(self):\n",
    "        self.assertEqual(magic(39), 3)\n",
    "    \n",
    "    def test_example_999(self):\n",
    "        self.assertEqual(magic(999), 4)\n",
    "    \n",
    "    def test_one_digit_numbers(self):\n",
    "        for i in range(10):\n",
    "            self.assertEqual(magic(i), 0)\n",
    "    \n",
    "    def test_two_digit_no_iterations(self):\n",
    "        self.assertEqual(magic(10), 1)  \n",
    "        self.assertEqual(magic(25), 2)  \n",
    "\n",
    "    def test_large_number(self):\n",
    "        self.assertEqual(magic(277777788888899), 11)\n",
    "    \n",
    "\n"
   ]
  },
  {
   "cell_type": "markdown",
   "metadata": {
    "id": "0nS-kIa8g8vd"
   },
   "source": [
    "# Задача 5\n",
    "Написать функцию, которая принимает два целочисленных вектора одинаковой длины и\n",
    "возвращает среднеквадратическое отклонение двух векторов. Написать тесты для кода"
   ]
  },
  {
   "cell_type": "code",
   "execution_count": 15,
   "metadata": {},
   "outputs": [],
   "source": [
    "def mse(pred, true):\n",
    "    if len(pred) != len(true):\n",
    "        return (\"Векторы должны быть одинаковой длины\")\n",
    "    \n",
    "    n = len(pred)\n",
    "    if n == 0:\n",
    "        return (\"Векторы не должны быть пустыми\")\n",
    "    \n",
    "    squared_diff = 0\n",
    "    for i in range(n):\n",
    "        squared_diff += (pred[i] - true[i]) ** 2\n",
    "    \n",
    "    mse_value = squared_diff / n\n",
    "    return mse_value"
   ]
  },
  {
   "cell_type": "code",
   "execution_count": 16,
   "metadata": {},
   "outputs": [],
   "source": [
    "class TestMSEFunction(unittest.TestCase):\n",
    "    def test_identical_vectors(self):\n",
    "        self.assertEqual(mse([1, 2, 3], [1, 2, 3]), 0.0)\n",
    "    \n",
    "    def test_different_vectors(self):\n",
    "        self.assertEqual(mse([1, 2, 3], [4, 5, 6]), 9.0)  \n",
    "    \n",
    "    def test_negative_numbers(self):\n",
    "        self.assertEqual(mse([-1, -2, -3], [-1, -2, -3]), 0.0)\n",
    "        self.assertEqual(mse([-1, -2, -3], [1, 2, 3]), 18.666666666666668)  \n",
    "        \n",
    "    def test_with_zeros(self):\n",
    "        self.assertEqual(mse([0, 0, 0], [0, 0, 0]), 0.0)\n",
    "        self.assertEqual(mse([0, 1, 2], [2, 1, 0]), 2.6666666666666665)  \n",
    "\n",
    "    def test_single_element(self):\n",
    "        self.assertEqual(mse([5], [5]), 0.0)\n",
    "        self.assertEqual(mse([5], [3]), 4.0)  \n",
    "\n",
    "    def test_empty_vectors(self):\n",
    "        self.assertEqual(mse([], []), \"Векторы не должны быть пустыми\")\n",
    "    \n",
    "    def test_different_length_vectors(self):\n",
    "        self.assertEqual(mse([1, 2], [1, 2, 3]), \"Векторы должны быть одинаковой длины\")\n",
    "        self.assertEqual(mse([1], [1, 2]), \"Векторы должны быть одинаковой длины\")\n",
    "    \n",
    "    def test_large_vectors(self):\n",
    "        pred = list(range(1000))\n",
    "        true = list(range(1000))\n",
    "        self.assertEqual(mse(pred, true), 0.0)\n",
    "        \n",
    "        true = list(range(1000, 2000))\n",
    "        expected_mse = sum((pred[i] - true[i]) ** 2 for i in range(1000)) / 1000\n",
    "        self.assertEqual(mse(pred, true), expected_mse)\n",
    "    \n",
    "\n"
   ]
  },
  {
   "cell_type": "markdown",
   "metadata": {
    "id": "vpIPKL439zkw"
   },
   "source": [
    "# Задача 6\n",
    "Написать функцию, принимающая целое положительное число. Функция должна вернуть\n",
    "строку вида “(n1**p1)(n2**p2)…(nk**pk)” представляющая разложение числа на простые\n",
    "множители (если pi == 1, то выводить только ni).\n",
    "Например, для числа 86240 функция должна вернуть “(2**5)(5)(7**2)(11)”. Написать тесты для кода"
   ]
  },
  {
   "cell_type": "code",
   "execution_count": 18,
   "metadata": {},
   "outputs": [],
   "source": [
    "\n",
    "\n",
    "def divide(n):\n",
    "    dct = defaultdict(int)\n",
    "    st = set()\n",
    "    d = 2\n",
    "    while n != 1:\n",
    "        if n%d == 0:\n",
    "            n//=d\n",
    "            dct[d]+=1\n",
    "            st.add(d)\n",
    "        else:\n",
    "            d+=1\n",
    "    st = list(st)\n",
    "    st.sort()\n",
    "    a = ''\n",
    "    for i in st:\n",
    "        if dct[i]==1:\n",
    "            a+=f'({str(i)})'\n",
    "        else:\n",
    "            a+=f'({str(i)}**{str(dct[i])})'\n",
    "    return a"
   ]
  },
  {
   "cell_type": "code",
   "execution_count": 19,
   "metadata": {},
   "outputs": [],
   "source": [
    "class TestDivideFunction(unittest.TestCase):\n",
    "    def test_single_prime(self):\n",
    "        self.assertEqual(divide(2), \"(2)\")\n",
    "        self.assertEqual(divide(13), \"(13)\")\n",
    "        self.assertEqual(divide(9973), \"(9973)\")\n",
    "\n",
    "    def test_single_composite_power(self):\n",
    "        self.assertEqual(divide(4), \"(2**2)\")\n",
    "        self.assertEqual(divide(27), \"(3**3)\")\n",
    "        self.assertEqual(divide(125), \"(5**3)\")\n",
    "\n",
    "    def test_multiple_primes(self):\n",
    "        self.assertEqual(divide(6), \"(2)(3)\")\n",
    "        self.assertEqual(divide(12), \"(2**2)(3)\")\n",
    "        self.assertEqual(divide(360), \"(2**3)(3**2)(5)\")\n",
    "        self.assertEqual(divide(100), \"(2**2)(5**2)\")\n",
    "\n",
    "    def test_large_number(self):\n",
    "        self.assertEqual(divide(86240), \"(2**5)(5)(7**2)(11)\")\n",
    "\n",
    "    def test_one(self):\n",
    "        self.assertEqual(divide(1), \"\")"
   ]
  },
  {
   "cell_type": "markdown",
   "metadata": {
    "id": "ps2s0BudX7A2"
   },
   "source": [
    "# Задача 7\n",
    "Написать функцию, принимающая целое число n, задающее количество кубиков. Функция\n",
    "должна определить, можно ли из данного кол-ва кубиков построить пирамиду, то есть\n",
    "можно ли представить число n как 1^2+2^2+3^2+…+k^2. Если можно, то функция должна\n",
    "вернуть k, иначе строку “It is impossible”. Написать тесты для кода"
   ]
  },
  {
   "cell_type": "code",
   "execution_count": 21,
   "metadata": {
    "id": "3YPjEXxhX_YT"
   },
   "outputs": [],
   "source": [
    "def pyramid(number):\n",
    "    k = 0\n",
    "    number = int(number)\n",
    "    tmp = number\n",
    "    while True:\n",
    "        if number >= (k+1)**2:\n",
    "            number-=(k+1)**2\n",
    "            k+=1\n",
    "        elif number == 0 and k !=0:\n",
    "            return k\n",
    "        else:\n",
    "            return('It is impossible')"
   ]
  },
  {
   "cell_type": "code",
   "execution_count": 22,
   "metadata": {},
   "outputs": [],
   "source": [
    "class TestPyramidFunction(unittest.TestCase):\n",
    "    def test_single_cube(self):\n",
    "        self.assertEqual(pyramid(1), 1)\n",
    "\n",
    "    def test_two_cubes_impossible(self):\n",
    "        self.assertEqual(pyramid(2), \"It is impossible\")\n",
    "\n",
    "    def test_five_cubes(self):\n",
    "        self.assertEqual(pyramid(5), 2)\n",
    "\n",
    "    def test_fourteen_cubes(self):\n",
    "        self.assertEqual(pyramid(14), 3)\n",
    "\n",
    "    def test_thirty_cubes(self):\n",
    "        self.assertEqual(pyramid(30), 4)\n",
    "\n",
    "    def test_fifty_five_cubes(self):\n",
    "        self.assertEqual(pyramid(55), 5)\n",
    "\n",
    "    def test_impossible_number(self):\n",
    "        self.assertEqual(pyramid(7), \"It is impossible\")\n",
    "        self.assertEqual(pyramid(10), \"It is impossible\")\n",
    "        self.assertEqual(pyramid(20), \"It is impossible\")\n",
    "\n",
    "    def test_large_pyramid(self):\n",
    "        self.assertEqual(pyramid(385), 10)\n",
    "\n",
    "    def test_zero_cubes(self):\n",
    "        self.assertEqual(pyramid(0), \"It is impossible\")\n",
    "\n",
    "    def test_negative_number(self):\n",
    "        self.assertEqual(pyramid(-5), \"It is impossible\")\n",
    "\n",
    "    def test_non_integer_input(self):\n",
    "        self.assertEqual(pyramid(3.5), \"It is impossible\")\n",
    "        self.assertEqual(pyramid(\"16\"), \"It is impossible\")"
   ]
  },
  {
   "cell_type": "markdown",
   "metadata": {
    "id": "KeKgmIdAQMEJ"
   },
   "source": [
    "# Задача 8\n",
    "Функция принимает на вход положительное число и определяет является ли оно сбалансированным, т.е. сумма цифр до средних равна сумме цифр после. Средними в случае нечетного числа цифр считать одну цифру, в случае четного - две средних. Написать тесты для кода"
   ]
  },
  {
   "cell_type": "code",
   "execution_count": 24,
   "metadata": {
    "id": "gMAAqtqlQrZt"
   },
   "outputs": [],
   "source": [
    "def is_balanced(n):\n",
    "    a = [0,0]\n",
    "    n = str(n)\n",
    "    if len(n)%2==0:\n",
    "        divider = (len(n)//2)\n",
    "        for i in range(divider-1):\n",
    "            a[0]+=int(n[i])\n",
    "        for i in range(divider+1,len(n)):\n",
    "            a[1]+=int(n[i])\n",
    "    else:\n",
    "        divider = (len(n)-1)//2\n",
    "        for i in range(divider):\n",
    "            a[0]+=int(n[i])\n",
    "        for i in range(divider+1,len(n)):\n",
    "            a[1]+=int(n[i])\n",
    "    \n",
    "    if a[0]==a[1]:\n",
    "        return True\n",
    "    else:\n",
    "        return False\n"
   ]
  },
  {
   "cell_type": "code",
   "execution_count": 25,
   "metadata": {},
   "outputs": [],
   "source": [
    "class TestIsBalanced(unittest.TestCase):\n",
    "    def test_single_digit(self):\n",
    "        self.assertTrue(is_balanced(1))\n",
    "        self.assertTrue(is_balanced(5))\n",
    "        self.assertTrue(is_balanced(9))\n",
    "\n",
    "    def test_two_digits_balanced(self):\n",
    "        self.assertTrue(is_balanced(11))\n",
    "        self.assertTrue(is_balanced(22))\n",
    "        self.assertTrue(is_balanced(99))\n",
    "        self.assertTrue(is_balanced(12))  \n",
    "\n",
    "    def test_three_digits_balanced(self):\n",
    "        self.assertTrue(is_balanced(121))  \n",
    "        self.assertTrue(is_balanced(343))  \n",
    "        self.assertTrue(is_balanced(989))  \n",
    "\n",
    "    def test_three_digits_unbalanced(self):\n",
    "        self.assertFalse(is_balanced(123))  \n",
    "        self.assertFalse(is_balanced(135))  \n",
    "        self.assertFalse(is_balanced(987))  \n",
    "\n",
    "    def test_four_digits_balanced(self):\n",
    "        self.assertTrue(is_balanced(1221))  \n",
    "        self.assertTrue(is_balanced(3443))  \n",
    "        self.assertTrue(is_balanced(5665))  \n",
    "\n",
    "    def test_four_digits_unbalanced(self):\n",
    "        self.assertFalse(is_balanced(1234))  \n",
    "        self.assertFalse(is_balanced(1456))  \n",
    "        self.assertFalse(is_balanced(7890))  \n",
    "\n",
    "    def test_multiple_digits_balanced(self):\n",
    "        self.assertTrue(is_balanced(1238033))  \n",
    "        self.assertTrue(is_balanced(5525))     \n",
    "\n",
    "    def test_multiple_digits_unbalanced(self):\n",
    "        self.assertFalse(is_balanced(123450))  \n",
    "        self.assertFalse(is_balanced(987654))  \n",
    "        self.assertFalse(is_balanced(112233))  \n",
    "\n",
    "    def test_large_balanced_number(self):\n",
    "        self.assertTrue(is_balanced(1234567890987654321))\n",
    "\n",
    "    def test_large_unbalanced_number(self):\n",
    "        self.assertFalse(is_balanced(1234567890123456790))\n"
   ]
  },
  {
   "cell_type": "markdown",
   "metadata": {},
   "source": [
    "# Запуск тестов"
   ]
  },
  {
   "cell_type": "code",
   "execution_count": 27,
   "metadata": {},
   "outputs": [
    {
     "name": "stderr",
     "output_type": "stream",
     "text": [
      ".............................................................\n",
      "----------------------------------------------------------------------\n",
      "Ran 61 tests in 0.035s\n",
      "\n",
      "OK\n"
     ]
    },
    {
     "data": {
      "text/plain": [
       "<unittest.main.TestProgram at 0x747ded1ca630>"
      ]
     },
     "execution_count": 27,
     "metadata": {},
     "output_type": "execute_result"
    }
   ],
   "source": [
    "unittest.main(argv=[''], exit=False)"
   ]
  }
 ],
 "metadata": {
  "colab": {
   "provenance": []
  },
  "kernelspec": {
   "display_name": "Python 3 (ipykernel)",
   "language": "python",
   "name": "python3"
  },
  "language_info": {
   "codemirror_mode": {
    "name": "ipython",
    "version": 3
   },
   "file_extension": ".py",
   "mimetype": "text/x-python",
   "name": "python",
   "nbconvert_exporter": "python",
   "pygments_lexer": "ipython3",
   "version": "3.12.4"
  }
 },
 "nbformat": 4,
 "nbformat_minor": 4
}
